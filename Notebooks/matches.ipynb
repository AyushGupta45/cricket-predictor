{
 "cells": [
  {
   "cell_type": "code",
   "execution_count": 4,
   "id": "8c65583d",
   "metadata": {},
   "outputs": [],
   "source": [
    "import os\n",
    "import json\n",
    "import pandas as pd\n",
    "from datetime import datetime\n",
    "\n",
    "pd.set_option('display.max_rows', None)\n",
    "pd.set_option('display.max_columns', None)\n",
    "\n",
    "json_dir = \"../ipl_json\"\n",
    "matches_info = []"
   ]
  },
  {
   "cell_type": "code",
   "execution_count": 54,
   "id": "59fedd7b",
   "metadata": {
    "scrolled": true
   },
   "outputs": [],
   "source": [
    "def extract_match_info(json_file):\n",
    "    with open(json_file, 'r') as file:\n",
    "        data = json.load(file)\n",
    "        info = data['info']\n",
    "        match_date = info['dates'][0]\n",
    "        match_id = f\"{data['info']['dates'][0]}_{data['info']['teams'][0]}_{data['info']['teams'][1]}\"\n",
    "        city = data['info'].get('city', 'Dubai')\n",
    "        season = data['info']['season']\n",
    "        team1, team2 = data['info']['teams']\n",
    "        toss_winner = data['info']['toss']['winner']\n",
    "        toss_decision = data['info']['toss']['decision']\n",
    "        \n",
    "\n",
    "        if 'innings' in data and len(data['innings']) > 1:\n",
    "            target = data['innings'][1]['target']['runs']\n",
    "        else:\n",
    "            target = None\n",
    "        \n",
    "        outcome = data['info'].get('outcome', {})\n",
    "        result = outcome.get('result', 'normal') \n",
    "\n",
    "\n",
    "        if 'winner' in outcome:\n",
    "            winner = outcome['winner']\n",
    "        elif 'eliminator' in outcome:\n",
    "            winner = outcome['eliminator']\n",
    "        else:\n",
    "            winner = None\n",
    "        \n",
    "        player_of_match = data['info'].get('player_of_match', [None])[0]\n",
    "        venue = data['info']['venue']\n",
    "        umpires = data['info']['officials']['umpires']\n",
    "        umpire1, umpire2 = umpires[:2]\n",
    "        \n",
    "        method_dl = 1 if 'method' in outcome and outcome['method'] == 'D/L' else 0\n",
    "        \n",
    "        win_by_runs = outcome.get('by', {}).get('runs', 0)\n",
    "        win_by_wickets = outcome.get('by', {}).get('wickets', 0)\n",
    "        \n",
    "        return match_date, season, city, team1, team2, toss_winner, toss_decision, target, method_dl, result, winner, win_by_runs, win_by_wickets, player_of_match, venue, umpire1, umpire2, match_id\n",
    "matches_info = []\n",
    "\n",
    "for filename in os.listdir(json_dir):\n",
    "    if filename.endswith(\".json\"):\n",
    "        json_file_path = os.path.join(json_dir, filename)\n",
    "        match_info = extract_match_info(json_file_path)\n",
    "        matches_info.append(match_info)\n",
    "\n",
    "matches_info.sort(key=lambda x: x[0], reverse=True)\n",
    "\n",
    "matches_df = pd.DataFrame(matches_info, columns=['Match Date', 'Season', 'City', 'Team 1', 'Team 2', 'Toss Winner', 'Toss Decision','Target', 'Dl applied', 'Result', 'Winner', 'Won by Runs', 'Won by Wickets', 'Player of the Match', 'Venue', 'Umpire 1', 'Umpire 2', 'Match Id'])\n",
    "\n",
    "matches_df.to_csv('../Dataset/matches_info.csv', index=False)\n"
   ]
  }
 ],
 "metadata": {
  "kernelspec": {
   "display_name": "Python 3 (ipykernel)",
   "language": "python",
   "name": "python3"
  },
  "language_info": {
   "codemirror_mode": {
    "name": "ipython",
    "version": 3
   },
   "file_extension": ".py",
   "mimetype": "text/x-python",
   "name": "python",
   "nbconvert_exporter": "python",
   "pygments_lexer": "ipython3",
   "version": "3.11.7"
  }
 },
 "nbformat": 4,
 "nbformat_minor": 5
}
